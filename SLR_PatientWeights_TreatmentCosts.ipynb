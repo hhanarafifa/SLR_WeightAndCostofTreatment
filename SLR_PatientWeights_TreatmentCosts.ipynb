{
 "cells": [
  {
   "cell_type": "markdown",
   "id": "444fb970",
   "metadata": {},
   "source": [
    "## SLR on Patient Weights and Treatment Costs"
   ]
  },
  {
   "cell_type": "code",
   "execution_count": 2,
   "id": "efe2f208",
   "metadata": {},
   "outputs": [],
   "source": [
    "# import basic library\n",
    "\n",
    "import pandas as pd\n",
    "import matplotlib.pyplot as plt\n",
    "import seaborn as sns\n",
    "import numpy as np\n",
    "\n",
    "import statsmodels.api as sm\n",
    "\n",
    "import warnings\n",
    "warnings.filterwarnings('ignore')"
   ]
  },
  {
   "cell_type": "code",
   "execution_count": 69,
   "id": "38dc1c04",
   "metadata": {},
   "outputs": [
    {
     "data": {
      "text/html": [
       "<div>\n",
       "<style scoped>\n",
       "    .dataframe tbody tr th:only-of-type {\n",
       "        vertical-align: middle;\n",
       "    }\n",
       "\n",
       "    .dataframe tbody tr th {\n",
       "        vertical-align: top;\n",
       "    }\n",
       "\n",
       "    .dataframe thead th {\n",
       "        text-align: right;\n",
       "    }\n",
       "</style>\n",
       "<table border=\"1\" class=\"dataframe\">\n",
       "  <thead>\n",
       "    <tr style=\"text-align: right;\">\n",
       "      <th></th>\n",
       "      <th>BodyWeight</th>\n",
       "      <th>CostofTreatment</th>\n",
       "    </tr>\n",
       "  </thead>\n",
       "  <tbody>\n",
       "    <tr>\n",
       "      <th>0</th>\n",
       "      <td>32</td>\n",
       "      <td>148652.00</td>\n",
       "    </tr>\n",
       "    <tr>\n",
       "      <th>1</th>\n",
       "      <td>32</td>\n",
       "      <td>128104.37</td>\n",
       "    </tr>\n",
       "    <tr>\n",
       "      <th>2</th>\n",
       "      <td>33</td>\n",
       "      <td>133087.00</td>\n",
       "    </tr>\n",
       "    <tr>\n",
       "      <th>3</th>\n",
       "      <td>35</td>\n",
       "      <td>124804.00</td>\n",
       "    </tr>\n",
       "    <tr>\n",
       "      <th>4</th>\n",
       "      <td>36</td>\n",
       "      <td>199790.00</td>\n",
       "    </tr>\n",
       "    <tr>\n",
       "      <th>...</th>\n",
       "      <td>...</td>\n",
       "      <td>...</td>\n",
       "    </tr>\n",
       "    <tr>\n",
       "      <th>115</th>\n",
       "      <td>77</td>\n",
       "      <td>133130.00</td>\n",
       "    </tr>\n",
       "    <tr>\n",
       "      <th>116</th>\n",
       "      <td>78</td>\n",
       "      <td>293127.00</td>\n",
       "    </tr>\n",
       "    <tr>\n",
       "      <th>117</th>\n",
       "      <td>78</td>\n",
       "      <td>188824.00</td>\n",
       "    </tr>\n",
       "    <tr>\n",
       "      <th>118</th>\n",
       "      <td>78</td>\n",
       "      <td>149462.00</td>\n",
       "    </tr>\n",
       "    <tr>\n",
       "      <th>119</th>\n",
       "      <td>78</td>\n",
       "      <td>120131.00</td>\n",
       "    </tr>\n",
       "  </tbody>\n",
       "</table>\n",
       "<p>120 rows × 2 columns</p>\n",
       "</div>"
      ],
      "text/plain": [
       "     BodyWeight  CostofTreatment\n",
       "0            32        148652.00\n",
       "1            32        128104.37\n",
       "2            33        133087.00\n",
       "3            35        124804.00\n",
       "4            36        199790.00\n",
       "..          ...              ...\n",
       "115          77        133130.00\n",
       "116          78        293127.00\n",
       "117          78        188824.00\n",
       "118          78        149462.00\n",
       "119          78        120131.00\n",
       "\n",
       "[120 rows x 2 columns]"
      ]
     },
     "execution_count": 69,
     "metadata": {},
     "output_type": "execute_result"
    }
   ],
   "source": [
    "#import the dataset\n",
    "df = pd.read_excel('Hospital.xlsx')\n",
    "df = df.drop(['RNo'],axis = 1)\n",
    "df"
   ]
  },
  {
   "cell_type": "code",
   "execution_count": 5,
   "id": "728cc5f3",
   "metadata": {},
   "outputs": [],
   "source": [
    "# Goal: Predict the cost of hospital treatment based on Patient Body Weight"
   ]
  },
  {
   "cell_type": "code",
   "execution_count": 7,
   "id": "f4019d5e",
   "metadata": {},
   "outputs": [
    {
     "data": {
      "text/plain": [
       "RNo                0\n",
       "BodyWeight         0\n",
       "CostofTreatment    0\n",
       "dtype: int64"
      ]
     },
     "execution_count": 7,
     "metadata": {},
     "output_type": "execute_result"
    }
   ],
   "source": [
    "# Check for missing values\n",
    "df.isnull().sum()"
   ]
  },
  {
   "cell_type": "code",
   "execution_count": 8,
   "id": "070d2883",
   "metadata": {},
   "outputs": [],
   "source": [
    "# There is no missing values"
   ]
  },
  {
   "cell_type": "code",
   "execution_count": 12,
   "id": "16a76ed8",
   "metadata": {},
   "outputs": [],
   "source": [
    "# let X be Patient Body weight and y be Cost of Treatment\n",
    "X = sm.add_constant(df['BodyWeight'])\n",
    "y = df['CostofTreatment']"
   ]
  },
  {
   "cell_type": "code",
   "execution_count": null,
   "id": "131a8417",
   "metadata": {},
   "outputs": [],
   "source": []
  },
  {
   "cell_type": "code",
   "execution_count": 10,
   "id": "2318e3df",
   "metadata": {},
   "outputs": [],
   "source": [
    "# To avoid overfitting, train-test split is performed.\n",
    "# 80% of data will be used for training, while the rest is used for testing"
   ]
  },
  {
   "cell_type": "code",
   "execution_count": 13,
   "id": "b7a7dd86",
   "metadata": {},
   "outputs": [],
   "source": [
    "from sklearn.model_selection import train_test_split\n",
    "X_train, X_test, y_train, y_test = train_test_split(X,y, train_size = 0.8, random_state = 101)\n",
    "\n",
    "# random_state is used to control any randomness and get consistent results."
   ]
  },
  {
   "cell_type": "code",
   "execution_count": 24,
   "id": "25c25110",
   "metadata": {},
   "outputs": [],
   "source": [
    "# construct a SLR model for train data\n",
    "model = sm.OLS(y_train, X_train).fit()\n",
    "y_pred_train = model.predict(X_train)"
   ]
  },
  {
   "cell_type": "code",
   "execution_count": 26,
   "id": "44ecfed1",
   "metadata": {},
   "outputs": [
    {
     "data": {
      "text/plain": [
       "const         122898.292127\n",
       "BodyWeight      1759.408243\n",
       "dtype: float64"
      ]
     },
     "execution_count": 26,
     "metadata": {},
     "output_type": "execute_result"
    }
   ],
   "source": [
    "model.params"
   ]
  },
  {
   "cell_type": "code",
   "execution_count": 32,
   "id": "61d6664d",
   "metadata": {},
   "outputs": [],
   "source": [
    "# Here we got reg. coefficients: y = 122898 + 1759.4(X)"
   ]
  },
  {
   "cell_type": "code",
   "execution_count": null,
   "id": "e311cf68",
   "metadata": {},
   "outputs": [],
   "source": []
  },
  {
   "cell_type": "code",
   "execution_count": 33,
   "id": "12c34dfc",
   "metadata": {},
   "outputs": [],
   "source": [
    "# Do residual Analysis - to check assumptions of Linear Regression Model for model appropriateness"
   ]
  },
  {
   "cell_type": "code",
   "execution_count": 34,
   "id": "b8d2716d",
   "metadata": {},
   "outputs": [],
   "source": [
    "# pp plot\n",
    "import matplotlib.pyplot as plt\n",
    "cost_residuals = model.resid"
   ]
  },
  {
   "cell_type": "code",
   "execution_count": 35,
   "id": "31fb666c",
   "metadata": {},
   "outputs": [],
   "source": [
    "def standardize(vals):\n",
    "    return (vals - vals.mean())/vals.std()"
   ]
  },
  {
   "cell_type": "code",
   "execution_count": 36,
   "id": "b47ce389",
   "metadata": {},
   "outputs": [
    {
     "data": {
      "text/plain": [
       "Text(0, 0.5, 'Standardized Residuals')"
      ]
     },
     "execution_count": 36,
     "metadata": {},
     "output_type": "execute_result"
    },
    {
     "data": {
      "image/png": "[encoded data removed]",
      "text/plain": [
       "<Figure size 640x480 with 1 Axes>"
      ]
     },
     "metadata": {},
     "output_type": "display_data"
    }
   ],
   "source": [
    "plt.scatter(standardize(model.fittedvalues), standardize(cost_residuals))\n",
    "plt.title('Residuals vs Predicted Values')\n",
    "plt.xlabel('Standardized Predicted Values')\n",
    "plt.ylabel('Standardized Residuals')\n",
    "\n",
    "## Residuals satisties the homoscedasticity assumption"
   ]
  },
  {
   "cell_type": "code",
   "execution_count": 39,
   "id": "5453b54a",
   "metadata": {},
   "outputs": [
    {
     "data": {
      "image/png": "[encoded data removed]",
      "text/plain": [
       "<Figure size 640x480 with 1 Axes>"
      ]
     },
     "metadata": {},
     "output_type": "display_data"
    }
   ],
   "source": [
    "import scipy.stats as st\n",
    "\n",
    "probplot = sm.graphics.qqplot(cost_residuals, dist = st.norm, line = '45', fit = True)\n",
    "plt.title('Normal q-q Plot of Regression Standardized Residuals')\n",
    "plt.show()\n",
    "\n",
    "# Data is normally distributed"
   ]
  },
  {
   "cell_type": "code",
   "execution_count": null,
   "id": "672ca746",
   "metadata": {},
   "outputs": [],
   "source": []
  },
  {
   "cell_type": "code",
   "execution_count": 29,
   "id": "c1c77172",
   "metadata": {},
   "outputs": [
    {
     "data": {
      "text/html": [
       "<table class=\"simpletable\">\n",
       "<caption>OLS Regression Results</caption>\n",
       "<tr>\n",
       "  <th>Dep. Variable:</th>     <td>CostofTreatment</td> <th>  R-squared:         </th> <td>   0.042</td>\n",
       "</tr>\n",
       "<tr>\n",
       "  <th>Model:</th>                   <td>OLS</td>       <th>  Adj. R-squared:    </th> <td>   0.032</td>\n",
       "</tr>\n",
       "<tr>\n",
       "  <th>Method:</th>             <td>Least Squares</td>  <th>  F-statistic:       </th> <td>   4.129</td>\n",
       "</tr>\n",
       "<tr>\n",
       "  <th>Date:</th>             <td>Tue, 06 Dec 2022</td> <th>  Prob (F-statistic):</th>  <td>0.0450</td> \n",
       "</tr>\n",
       "<tr>\n",
       "  <th>Time:</th>                 <td>20:13:00</td>     <th>  Log-Likelihood:    </th> <td> -1238.6</td>\n",
       "</tr>\n",
       "<tr>\n",
       "  <th>No. Observations:</th>      <td>    96</td>      <th>  AIC:               </th> <td>   2481.</td>\n",
       "</tr>\n",
       "<tr>\n",
       "  <th>Df Residuals:</th>          <td>    94</td>      <th>  BIC:               </th> <td>   2486.</td>\n",
       "</tr>\n",
       "<tr>\n",
       "  <th>Df Model:</th>              <td>     1</td>      <th>                     </th>     <td> </td>   \n",
       "</tr>\n",
       "<tr>\n",
       "  <th>Covariance Type:</th>      <td>nonrobust</td>    <th>                     </th>     <td> </td>   \n",
       "</tr>\n",
       "</table>\n",
       "<table class=\"simpletable\">\n",
       "<tr>\n",
       "       <td></td>         <th>coef</th>     <th>std err</th>      <th>t</th>      <th>P>|t|</th>  <th>[0.025</th>    <th>0.975]</th>  \n",
       "</tr>\n",
       "<tr>\n",
       "  <th>const</th>      <td> 1.229e+05</td> <td> 4.95e+04</td> <td>    2.484</td> <td> 0.015</td> <td> 2.47e+04</td> <td> 2.21e+05</td>\n",
       "</tr>\n",
       "<tr>\n",
       "  <th>BodyWeight</th> <td> 1759.4082</td> <td>  865.879</td> <td>    2.032</td> <td> 0.045</td> <td>   40.185</td> <td> 3478.631</td>\n",
       "</tr>\n",
       "</table>\n",
       "<table class=\"simpletable\">\n",
       "<tr>\n",
       "  <th>Omnibus:</th>       <td>19.008</td> <th>  Durbin-Watson:     </th> <td>   1.635</td>\n",
       "</tr>\n",
       "<tr>\n",
       "  <th>Prob(Omnibus):</th> <td> 0.000</td> <th>  Jarque-Bera (JB):  </th> <td>  23.068</td>\n",
       "</tr>\n",
       "<tr>\n",
       "  <th>Skew:</th>          <td> 1.161</td> <th>  Prob(JB):          </th> <td>9.79e-06</td>\n",
       "</tr>\n",
       "<tr>\n",
       "  <th>Kurtosis:</th>      <td> 3.612</td> <th>  Cond. No.          </th> <td>    282.</td>\n",
       "</tr>\n",
       "</table><br/><br/>Notes:<br/>[1] Standard Errors assume that the covariance matrix of the errors is correctly specified."
      ],
      "text/plain": [
       "<class 'statsmodels.iolib.summary.Summary'>\n",
       "\"\"\"\n",
       "                            OLS Regression Results                            \n",
       "==============================================================================\n",
       "Dep. Variable:        CostofTreatment   R-squared:                       0.042\n",
       "Model:                            OLS   Adj. R-squared:                  0.032\n",
       "Method:                 Least Squares   F-statistic:                     4.129\n",
       "Date:                Tue, 06 Dec 2022   Prob (F-statistic):             0.0450\n",
       "Time:                        20:13:00   Log-Likelihood:                -1238.6\n",
       "No. Observations:                  96   AIC:                             2481.\n",
       "Df Residuals:                      94   BIC:                             2486.\n",
       "Df Model:                           1                                         \n",
       "Covariance Type:            nonrobust                                         \n",
       "==============================================================================\n",
       "                 coef    std err          t      P>|t|      [0.025      0.975]\n",
       "------------------------------------------------------------------------------\n",
       "const       1.229e+05   4.95e+04      2.484      0.015    2.47e+04    2.21e+05\n",
       "BodyWeight  1759.4082    865.879      2.032      0.045      40.185    3478.631\n",
       "==============================================================================\n",
       "Omnibus:                       19.008   Durbin-Watson:                   1.635\n",
       "Prob(Omnibus):                  0.000   Jarque-Bera (JB):               23.068\n",
       "Skew:                           1.161   Prob(JB):                     9.79e-06\n",
       "Kurtosis:                       3.612   Cond. No.                         282.\n",
       "==============================================================================\n",
       "\n",
       "Notes:\n",
       "[1] Standard Errors assume that the covariance matrix of the errors is correctly specified.\n",
       "\"\"\""
      ]
     },
     "execution_count": 29,
     "metadata": {},
     "output_type": "execute_result"
    }
   ],
   "source": [
    "model.summary()"
   ]
  },
  {
   "cell_type": "code",
   "execution_count": 30,
   "id": "bdc57861",
   "metadata": {},
   "outputs": [
    {
     "name": "stdout",
     "output_type": "stream",
     "text": [
      "r-squared for the train data:  0.04207485960405977\n"
     ]
    }
   ],
   "source": [
    "# Evaluate model performance metrics\n",
    "from sklearn.metrics import r2_score\n",
    "print('r-squared for the train data: ',r2_score(y_train, y_pred_train))\n",
    "\n",
    "# Model only represent 4.2% of variance in Y"
   ]
  },
  {
   "cell_type": "code",
   "execution_count": null,
   "id": "39992237",
   "metadata": {},
   "outputs": [],
   "source": [
    "# Although the r-squares is really low, the regression coefficient is statistically significant."
   ]
  },
  {
   "cell_type": "code",
   "execution_count": null,
   "id": "67fbf5ed",
   "metadata": {},
   "outputs": [],
   "source": []
  },
  {
   "cell_type": "markdown",
   "id": "149843ca",
   "metadata": {},
   "source": [
    "### Try to used Log transformation on SLR model"
   ]
  },
  {
   "cell_type": "markdown",
   "id": "53ddede1",
   "metadata": {},
   "source": [
    "## Model 2: y = b0 + b1 (log(X))\n",
    "There is a unit change in Y for a percentage change in X"
   ]
  },
  {
   "cell_type": "code",
   "execution_count": 41,
   "id": "65252f77",
   "metadata": {},
   "outputs": [],
   "source": [
    "# Turn BodyWeight into log-transformed data\n",
    "\n",
    "df1 = df.copy()\n",
    "df1['BodyWeight'] = np.log(df['BodyWeight'])"
   ]
  },
  {
   "cell_type": "code",
   "execution_count": 49,
   "id": "1b54c41b",
   "metadata": {},
   "outputs": [],
   "source": [
    "X1 = sm.add_constant(df1['BodyWeight'])\n",
    "y1 = df1['CostofTreatment']"
   ]
  },
  {
   "cell_type": "code",
   "execution_count": 50,
   "id": "67d4d77a",
   "metadata": {},
   "outputs": [],
   "source": [
    "# Perform train-test split\n",
    "X_train1, X_test1, y_train1, y_test1 = train_test_split(X1,y1, train_size = 0.8, random_state = 101)"
   ]
  },
  {
   "cell_type": "code",
   "execution_count": 54,
   "id": "4b26fa68",
   "metadata": {},
   "outputs": [],
   "source": [
    "# Construct the model\n",
    "\n",
    "model1 = sm.OLS(y_train1,X_train1).fit()\n",
    "y_pred_train1 = model1.predict(X_train1)"
   ]
  },
  {
   "cell_type": "code",
   "execution_count": 55,
   "id": "4202f6fa",
   "metadata": {},
   "outputs": [
    {
     "data": {
      "text/plain": [
       "const        -183180.993192\n",
       "BodyWeight    101084.152144\n",
       "dtype: float64"
      ]
     },
     "execution_count": 55,
     "metadata": {},
     "output_type": "execute_result"
    }
   ],
   "source": [
    "# Regression coefficient of the model: y = -183181 + 101084 (log(x))\n",
    "\n",
    "model1.params"
   ]
  },
  {
   "cell_type": "code",
   "execution_count": 56,
   "id": "c3a0ec9b",
   "metadata": {},
   "outputs": [
    {
     "data": {
      "text/html": [
       "<table class=\"simpletable\">\n",
       "<caption>OLS Regression Results</caption>\n",
       "<tr>\n",
       "  <th>Dep. Variable:</th>     <td>CostofTreatment</td> <th>  R-squared:         </th> <td>   0.049</td>\n",
       "</tr>\n",
       "<tr>\n",
       "  <th>Model:</th>                   <td>OLS</td>       <th>  Adj. R-squared:    </th> <td>   0.039</td>\n",
       "</tr>\n",
       "<tr>\n",
       "  <th>Method:</th>             <td>Least Squares</td>  <th>  F-statistic:       </th> <td>   4.823</td>\n",
       "</tr>\n",
       "<tr>\n",
       "  <th>Date:</th>             <td>Tue, 06 Dec 2022</td> <th>  Prob (F-statistic):</th>  <td>0.0305</td> \n",
       "</tr>\n",
       "<tr>\n",
       "  <th>Time:</th>                 <td>20:36:45</td>     <th>  Log-Likelihood:    </th> <td> -1238.3</td>\n",
       "</tr>\n",
       "<tr>\n",
       "  <th>No. Observations:</th>      <td>    96</td>      <th>  AIC:               </th> <td>   2481.</td>\n",
       "</tr>\n",
       "<tr>\n",
       "  <th>Df Residuals:</th>          <td>    94</td>      <th>  BIC:               </th> <td>   2486.</td>\n",
       "</tr>\n",
       "<tr>\n",
       "  <th>Df Model:</th>              <td>     1</td>      <th>                     </th>     <td> </td>   \n",
       "</tr>\n",
       "<tr>\n",
       "  <th>Covariance Type:</th>      <td>nonrobust</td>    <th>                     </th>     <td> </td>   \n",
       "</tr>\n",
       "</table>\n",
       "<table class=\"simpletable\">\n",
       "<tr>\n",
       "       <td></td>         <th>coef</th>     <th>std err</th>      <th>t</th>      <th>P>|t|</th>  <th>[0.025</th>    <th>0.975]</th>  \n",
       "</tr>\n",
       "<tr>\n",
       "  <th>const</th>      <td>-1.832e+05</td> <td> 1.84e+05</td> <td>   -0.993</td> <td> 0.323</td> <td>-5.49e+05</td> <td> 1.83e+05</td>\n",
       "</tr>\n",
       "<tr>\n",
       "  <th>BodyWeight</th> <td> 1.011e+05</td> <td>  4.6e+04</td> <td>    2.196</td> <td> 0.031</td> <td> 9696.158</td> <td> 1.92e+05</td>\n",
       "</tr>\n",
       "</table>\n",
       "<table class=\"simpletable\">\n",
       "<tr>\n",
       "  <th>Omnibus:</th>       <td>18.631</td> <th>  Durbin-Watson:     </th> <td>   1.636</td>\n",
       "</tr>\n",
       "<tr>\n",
       "  <th>Prob(Omnibus):</th> <td> 0.000</td> <th>  Jarque-Bera (JB):  </th> <td>  22.463</td>\n",
       "</tr>\n",
       "<tr>\n",
       "  <th>Skew:</th>          <td> 1.147</td> <th>  Prob(JB):          </th> <td>1.32e-05</td>\n",
       "</tr>\n",
       "<tr>\n",
       "  <th>Kurtosis:</th>      <td> 3.593</td> <th>  Cond. No.          </th> <td>    78.7</td>\n",
       "</tr>\n",
       "</table><br/><br/>Notes:<br/>[1] Standard Errors assume that the covariance matrix of the errors is correctly specified."
      ],
      "text/plain": [
       "<class 'statsmodels.iolib.summary.Summary'>\n",
       "\"\"\"\n",
       "                            OLS Regression Results                            \n",
       "==============================================================================\n",
       "Dep. Variable:        CostofTreatment   R-squared:                       0.049\n",
       "Model:                            OLS   Adj. R-squared:                  0.039\n",
       "Method:                 Least Squares   F-statistic:                     4.823\n",
       "Date:                Tue, 06 Dec 2022   Prob (F-statistic):             0.0305\n",
       "Time:                        20:36:45   Log-Likelihood:                -1238.3\n",
       "No. Observations:                  96   AIC:                             2481.\n",
       "Df Residuals:                      94   BIC:                             2486.\n",
       "Df Model:                           1                                         \n",
       "Covariance Type:            nonrobust                                         \n",
       "==============================================================================\n",
       "                 coef    std err          t      P>|t|      [0.025      0.975]\n",
       "------------------------------------------------------------------------------\n",
       "const      -1.832e+05   1.84e+05     -0.993      0.323   -5.49e+05    1.83e+05\n",
       "BodyWeight  1.011e+05    4.6e+04      2.196      0.031    9696.158    1.92e+05\n",
       "==============================================================================\n",
       "Omnibus:                       18.631   Durbin-Watson:                   1.636\n",
       "Prob(Omnibus):                  0.000   Jarque-Bera (JB):               22.463\n",
       "Skew:                           1.147   Prob(JB):                     1.32e-05\n",
       "Kurtosis:                       3.593   Cond. No.                         78.7\n",
       "==============================================================================\n",
       "\n",
       "Notes:\n",
       "[1] Standard Errors assume that the covariance matrix of the errors is correctly specified.\n",
       "\"\"\""
      ]
     },
     "execution_count": 56,
     "metadata": {},
     "output_type": "execute_result"
    }
   ],
   "source": [
    "model1.summary()"
   ]
  },
  {
   "cell_type": "code",
   "execution_count": 57,
   "id": "866bb4a1",
   "metadata": {},
   "outputs": [
    {
     "name": "stdout",
     "output_type": "stream",
     "text": [
      "r-squared for the train data:  0.048806633223558826\n"
     ]
    }
   ],
   "source": [
    "print('r-squared for the train data: ',r2_score(y_train1, y_pred_train1))"
   ]
  },
  {
   "cell_type": "code",
   "execution_count": null,
   "id": "88c7be46",
   "metadata": {},
   "outputs": [],
   "source": [
    "# The r-squared are slightly higher then the previous model"
   ]
  },
  {
   "cell_type": "code",
   "execution_count": null,
   "id": "9af77d9d",
   "metadata": {},
   "outputs": [],
   "source": []
  },
  {
   "cell_type": "markdown",
   "id": "55cb29dc",
   "metadata": {},
   "source": [
    "## Model 2: log(y) = b0 + b1(X)\n",
    "There is a percentage change in Y for a unit change in X"
   ]
  },
  {
   "cell_type": "code",
   "execution_count": 58,
   "id": "2aab0bb3",
   "metadata": {},
   "outputs": [],
   "source": [
    "# Turn the Cost of Treatment into log-transformed data\n",
    "df2 = df.copy()\n",
    "df2['Costoftreatment'] = np.log(df2['CostofTreatment'])"
   ]
  },
  {
   "cell_type": "code",
   "execution_count": 59,
   "id": "e8c200c6",
   "metadata": {},
   "outputs": [],
   "source": [
    "X2 = sm.add_constant(df['BodyWeight'])\n",
    "y2 = df2['CostofTreatment']"
   ]
  },
  {
   "cell_type": "code",
   "execution_count": 60,
   "id": "4a05e56f",
   "metadata": {},
   "outputs": [],
   "source": [
    "# Perform train-test split\n",
    "X_train2, X_test2, y_train2, y_test2 = train_test_split(X2,y2, train_size = 0.8, random_state = 102)"
   ]
  },
  {
   "cell_type": "code",
   "execution_count": 62,
   "id": "b4b65045",
   "metadata": {},
   "outputs": [],
   "source": [
    "# Construct the model\n",
    "model2 = sm.OLS(y2,X2).fit()"
   ]
  },
  {
   "cell_type": "code",
   "execution_count": 65,
   "id": "03df5903",
   "metadata": {},
   "outputs": [
    {
     "data": {
      "text/plain": [
       "const         127498.079394\n",
       "BodyWeight      1678.933253\n",
       "dtype: float64"
      ]
     },
     "execution_count": 65,
     "metadata": {},
     "output_type": "execute_result"
    }
   ],
   "source": [
    "model2.params"
   ]
  },
  {
   "cell_type": "code",
   "execution_count": null,
   "id": "58dbf7aa",
   "metadata": {},
   "outputs": [],
   "source": [
    "# Here we got reg coeff: log(y) = 127498 + 1678(X)"
   ]
  },
  {
   "cell_type": "code",
   "execution_count": 66,
   "id": "707c6ebb",
   "metadata": {},
   "outputs": [
    {
     "data": {
      "text/html": [
       "<table class=\"simpletable\">\n",
       "<caption>OLS Regression Results</caption>\n",
       "<tr>\n",
       "  <th>Dep. Variable:</th>     <td>CostofTreatment</td> <th>  R-squared:         </th> <td>   0.039</td>\n",
       "</tr>\n",
       "<tr>\n",
       "  <th>Model:</th>                   <td>OLS</td>       <th>  Adj. R-squared:    </th> <td>   0.031</td>\n",
       "</tr>\n",
       "<tr>\n",
       "  <th>Method:</th>             <td>Least Squares</td>  <th>  F-statistic:       </th> <td>   4.835</td>\n",
       "</tr>\n",
       "<tr>\n",
       "  <th>Date:</th>             <td>Tue, 06 Dec 2022</td> <th>  Prob (F-statistic):</th>  <td>0.0298</td> \n",
       "</tr>\n",
       "<tr>\n",
       "  <th>Time:</th>                 <td>20:44:58</td>     <th>  Log-Likelihood:    </th> <td> -1546.6</td>\n",
       "</tr>\n",
       "<tr>\n",
       "  <th>No. Observations:</th>      <td>   120</td>      <th>  AIC:               </th> <td>   3097.</td>\n",
       "</tr>\n",
       "<tr>\n",
       "  <th>Df Residuals:</th>          <td>   118</td>      <th>  BIC:               </th> <td>   3103.</td>\n",
       "</tr>\n",
       "<tr>\n",
       "  <th>Df Model:</th>              <td>     1</td>      <th>                     </th>     <td> </td>   \n",
       "</tr>\n",
       "<tr>\n",
       "  <th>Covariance Type:</th>      <td>nonrobust</td>    <th>                     </th>     <td> </td>   \n",
       "</tr>\n",
       "</table>\n",
       "<table class=\"simpletable\">\n",
       "<tr>\n",
       "       <td></td>         <th>coef</th>     <th>std err</th>      <th>t</th>      <th>P>|t|</th>  <th>[0.025</th>    <th>0.975]</th>  \n",
       "</tr>\n",
       "<tr>\n",
       "  <th>const</th>      <td> 1.275e+05</td> <td> 4.38e+04</td> <td>    2.909</td> <td> 0.004</td> <td> 4.07e+04</td> <td> 2.14e+05</td>\n",
       "</tr>\n",
       "<tr>\n",
       "  <th>BodyWeight</th> <td> 1678.9333</td> <td>  763.569</td> <td>    2.199</td> <td> 0.030</td> <td>  166.860</td> <td> 3191.007</td>\n",
       "</tr>\n",
       "</table>\n",
       "<table class=\"simpletable\">\n",
       "<tr>\n",
       "  <th>Omnibus:</th>       <td>19.778</td> <th>  Durbin-Watson:     </th> <td>   1.773</td>\n",
       "</tr>\n",
       "<tr>\n",
       "  <th>Prob(Omnibus):</th> <td> 0.000</td> <th>  Jarque-Bera (JB):  </th> <td>  24.000</td>\n",
       "</tr>\n",
       "<tr>\n",
       "  <th>Skew:</th>          <td> 1.072</td> <th>  Prob(JB):          </th> <td>6.14e-06</td>\n",
       "</tr>\n",
       "<tr>\n",
       "  <th>Kurtosis:</th>      <td> 3.452</td> <th>  Cond. No.          </th> <td>    286.</td>\n",
       "</tr>\n",
       "</table><br/><br/>Notes:<br/>[1] Standard Errors assume that the covariance matrix of the errors is correctly specified."
      ],
      "text/plain": [
       "<class 'statsmodels.iolib.summary.Summary'>\n",
       "\"\"\"\n",
       "                            OLS Regression Results                            \n",
       "==============================================================================\n",
       "Dep. Variable:        CostofTreatment   R-squared:                       0.039\n",
       "Model:                            OLS   Adj. R-squared:                  0.031\n",
       "Method:                 Least Squares   F-statistic:                     4.835\n",
       "Date:                Tue, 06 Dec 2022   Prob (F-statistic):             0.0298\n",
       "Time:                        20:44:58   Log-Likelihood:                -1546.6\n",
       "No. Observations:                 120   AIC:                             3097.\n",
       "Df Residuals:                     118   BIC:                             3103.\n",
       "Df Model:                           1                                         \n",
       "Covariance Type:            nonrobust                                         \n",
       "==============================================================================\n",
       "                 coef    std err          t      P>|t|      [0.025      0.975]\n",
       "------------------------------------------------------------------------------\n",
       "const       1.275e+05   4.38e+04      2.909      0.004    4.07e+04    2.14e+05\n",
       "BodyWeight  1678.9333    763.569      2.199      0.030     166.860    3191.007\n",
       "==============================================================================\n",
       "Omnibus:                       19.778   Durbin-Watson:                   1.773\n",
       "Prob(Omnibus):                  0.000   Jarque-Bera (JB):               24.000\n",
       "Skew:                           1.072   Prob(JB):                     6.14e-06\n",
       "Kurtosis:                       3.452   Cond. No.                         286.\n",
       "==============================================================================\n",
       "\n",
       "Notes:\n",
       "[1] Standard Errors assume that the covariance matrix of the errors is correctly specified.\n",
       "\"\"\""
      ]
     },
     "execution_count": 66,
     "metadata": {},
     "output_type": "execute_result"
    }
   ],
   "source": [
    "model2.summary()"
   ]
  },
  {
   "cell_type": "code",
   "execution_count": 67,
   "id": "a276607d",
   "metadata": {},
   "outputs": [],
   "source": [
    "# Here we got the lower r-square than the previous models"
   ]
  },
  {
   "cell_type": "code",
   "execution_count": null,
   "id": "3f2b3f41",
   "metadata": {},
   "outputs": [],
   "source": []
  },
  {
   "cell_type": "markdown",
   "id": "156d0575",
   "metadata": {},
   "source": [
    "## Model 4: log(y) = b0 + b1 (log(X)\n",
    "There is a percentage change in y for a percentage change in X"
   ]
  },
  {
   "cell_type": "code",
   "execution_count": 70,
   "id": "a8debe22",
   "metadata": {},
   "outputs": [
    {
     "data": {
      "text/html": [
       "<div>\n",
       "<style scoped>\n",
       "    .dataframe tbody tr th:only-of-type {\n",
       "        vertical-align: middle;\n",
       "    }\n",
       "\n",
       "    .dataframe tbody tr th {\n",
       "        vertical-align: top;\n",
       "    }\n",
       "\n",
       "    .dataframe thead th {\n",
       "        text-align: right;\n",
       "    }\n",
       "</style>\n",
       "<table border=\"1\" class=\"dataframe\">\n",
       "  <thead>\n",
       "    <tr style=\"text-align: right;\">\n",
       "      <th></th>\n",
       "      <th>BodyWeight</th>\n",
       "      <th>CostofTreatment</th>\n",
       "    </tr>\n",
       "  </thead>\n",
       "  <tbody>\n",
       "    <tr>\n",
       "      <th>0</th>\n",
       "      <td>3.465736</td>\n",
       "      <td>11.909363</td>\n",
       "    </tr>\n",
       "    <tr>\n",
       "      <th>1</th>\n",
       "      <td>3.465736</td>\n",
       "      <td>11.760601</td>\n",
       "    </tr>\n",
       "    <tr>\n",
       "      <th>2</th>\n",
       "      <td>3.496508</td>\n",
       "      <td>11.798758</td>\n",
       "    </tr>\n",
       "    <tr>\n",
       "      <th>3</th>\n",
       "      <td>3.555348</td>\n",
       "      <td>11.734500</td>\n",
       "    </tr>\n",
       "    <tr>\n",
       "      <th>4</th>\n",
       "      <td>3.583519</td>\n",
       "      <td>12.205022</td>\n",
       "    </tr>\n",
       "    <tr>\n",
       "      <th>...</th>\n",
       "      <td>...</td>\n",
       "      <td>...</td>\n",
       "    </tr>\n",
       "    <tr>\n",
       "      <th>115</th>\n",
       "      <td>4.343805</td>\n",
       "      <td>11.799081</td>\n",
       "    </tr>\n",
       "    <tr>\n",
       "      <th>116</th>\n",
       "      <td>4.356709</td>\n",
       "      <td>12.588361</td>\n",
       "    </tr>\n",
       "    <tr>\n",
       "      <th>117</th>\n",
       "      <td>4.356709</td>\n",
       "      <td>12.148571</td>\n",
       "    </tr>\n",
       "    <tr>\n",
       "      <th>118</th>\n",
       "      <td>4.356709</td>\n",
       "      <td>11.914797</td>\n",
       "    </tr>\n",
       "    <tr>\n",
       "      <th>119</th>\n",
       "      <td>4.356709</td>\n",
       "      <td>11.696338</td>\n",
       "    </tr>\n",
       "  </tbody>\n",
       "</table>\n",
       "<p>120 rows × 2 columns</p>\n",
       "</div>"
      ],
      "text/plain": [
       "     BodyWeight  CostofTreatment\n",
       "0      3.465736        11.909363\n",
       "1      3.465736        11.760601\n",
       "2      3.496508        11.798758\n",
       "3      3.555348        11.734500\n",
       "4      3.583519        12.205022\n",
       "..          ...              ...\n",
       "115    4.343805        11.799081\n",
       "116    4.356709        12.588361\n",
       "117    4.356709        12.148571\n",
       "118    4.356709        11.914797\n",
       "119    4.356709        11.696338\n",
       "\n",
       "[120 rows x 2 columns]"
      ]
     },
     "execution_count": 70,
     "metadata": {},
     "output_type": "execute_result"
    }
   ],
   "source": [
    "# Convert all the data into log-transformed variable\n",
    "df3 = df.copy()\n",
    "df3 = np.log(df3)\n",
    "df3"
   ]
  },
  {
   "cell_type": "code",
   "execution_count": 72,
   "id": "429e33e4",
   "metadata": {},
   "outputs": [],
   "source": [
    "X3 = sm.add_constant(df3['BodyWeight'])\n",
    "y3 = df3['CostofTreatment']"
   ]
  },
  {
   "cell_type": "code",
   "execution_count": 73,
   "id": "00c5b534",
   "metadata": {},
   "outputs": [],
   "source": [
    "# Perform train_test split\n",
    "X_train3, X_test3, y_train3, y_test3 = train_test_split(X3,y3, train_size = 0.8, random_state=101)"
   ]
  },
  {
   "cell_type": "code",
   "execution_count": 79,
   "id": "558ae8b2",
   "metadata": {},
   "outputs": [],
   "source": [
    "# Construct the model\n",
    "model3 = sm.OLS(y3, X3).fit()"
   ]
  },
  {
   "cell_type": "code",
   "execution_count": 75,
   "id": "79b003b9",
   "metadata": {},
   "outputs": [
    {
     "data": {
      "text/plain": [
       "const         10.470114\n",
       "BodyWeight     0.437819\n",
       "dtype: float64"
      ]
     },
     "execution_count": 75,
     "metadata": {},
     "output_type": "execute_result"
    }
   ],
   "source": [
    "model3.params"
   ]
  },
  {
   "cell_type": "code",
   "execution_count": null,
   "id": "d5cafae5",
   "metadata": {},
   "outputs": [],
   "source": [
    "# Here we got: log(y) = 10.47 + 0.437 (log(X))"
   ]
  },
  {
   "cell_type": "code",
   "execution_count": 76,
   "id": "4a890bbe",
   "metadata": {},
   "outputs": [
    {
     "data": {
      "text/html": [
       "<table class=\"simpletable\">\n",
       "<caption>OLS Regression Results</caption>\n",
       "<tr>\n",
       "  <th>Dep. Variable:</th>     <td>CostofTreatment</td> <th>  R-squared:         </th> <td>   0.055</td>\n",
       "</tr>\n",
       "<tr>\n",
       "  <th>Model:</th>                   <td>OLS</td>       <th>  Adj. R-squared:    </th> <td>   0.047</td>\n",
       "</tr>\n",
       "<tr>\n",
       "  <th>Method:</th>             <td>Least Squares</td>  <th>  F-statistic:       </th> <td>   6.819</td>\n",
       "</tr>\n",
       "<tr>\n",
       "  <th>Date:</th>             <td>Tue, 06 Dec 2022</td> <th>  Prob (F-statistic):</th>  <td>0.0102</td> \n",
       "</tr>\n",
       "<tr>\n",
       "  <th>Time:</th>                 <td>21:09:49</td>     <th>  Log-Likelihood:    </th> <td> -58.014</td>\n",
       "</tr>\n",
       "<tr>\n",
       "  <th>No. Observations:</th>      <td>   120</td>      <th>  AIC:               </th> <td>   120.0</td>\n",
       "</tr>\n",
       "<tr>\n",
       "  <th>Df Residuals:</th>          <td>   118</td>      <th>  BIC:               </th> <td>   125.6</td>\n",
       "</tr>\n",
       "<tr>\n",
       "  <th>Df Model:</th>              <td>     1</td>      <th>                     </th>     <td> </td>   \n",
       "</tr>\n",
       "<tr>\n",
       "  <th>Covariance Type:</th>      <td>nonrobust</td>    <th>                     </th>     <td> </td>   \n",
       "</tr>\n",
       "</table>\n",
       "<table class=\"simpletable\">\n",
       "<tr>\n",
       "       <td></td>         <th>coef</th>     <th>std err</th>      <th>t</th>      <th>P>|t|</th>  <th>[0.025</th>    <th>0.975]</th>  \n",
       "</tr>\n",
       "<tr>\n",
       "  <th>const</th>      <td>   10.4701</td> <td>    0.673</td> <td>   15.561</td> <td> 0.000</td> <td>    9.138</td> <td>   11.803</td>\n",
       "</tr>\n",
       "<tr>\n",
       "  <th>BodyWeight</th> <td>    0.4378</td> <td>    0.168</td> <td>    2.611</td> <td> 0.010</td> <td>    0.106</td> <td>    0.770</td>\n",
       "</tr>\n",
       "</table>\n",
       "<table class=\"simpletable\">\n",
       "<tr>\n",
       "  <th>Omnibus:</th>       <td> 8.319</td> <th>  Durbin-Watson:     </th> <td>   1.730</td>\n",
       "</tr>\n",
       "<tr>\n",
       "  <th>Prob(Omnibus):</th> <td> 0.016</td> <th>  Jarque-Bera (JB):  </th> <td>   6.111</td>\n",
       "</tr>\n",
       "<tr>\n",
       "  <th>Skew:</th>          <td> 0.430</td> <th>  Prob(JB):          </th> <td>  0.0471</td>\n",
       "</tr>\n",
       "<tr>\n",
       "  <th>Kurtosis:</th>      <td> 2.306</td> <th>  Cond. No.          </th> <td>    79.4</td>\n",
       "</tr>\n",
       "</table><br/><br/>Notes:<br/>[1] Standard Errors assume that the covariance matrix of the errors is correctly specified."
      ],
      "text/plain": [
       "<class 'statsmodels.iolib.summary.Summary'>\n",
       "\"\"\"\n",
       "                            OLS Regression Results                            \n",
       "==============================================================================\n",
       "Dep. Variable:        CostofTreatment   R-squared:                       0.055\n",
       "Model:                            OLS   Adj. R-squared:                  0.047\n",
       "Method:                 Least Squares   F-statistic:                     6.819\n",
       "Date:                Tue, 06 Dec 2022   Prob (F-statistic):             0.0102\n",
       "Time:                        21:09:49   Log-Likelihood:                -58.014\n",
       "No. Observations:                 120   AIC:                             120.0\n",
       "Df Residuals:                     118   BIC:                             125.6\n",
       "Df Model:                           1                                         \n",
       "Covariance Type:            nonrobust                                         \n",
       "==============================================================================\n",
       "                 coef    std err          t      P>|t|      [0.025      0.975]\n",
       "------------------------------------------------------------------------------\n",
       "const         10.4701      0.673     15.561      0.000       9.138      11.803\n",
       "BodyWeight     0.4378      0.168      2.611      0.010       0.106       0.770\n",
       "==============================================================================\n",
       "Omnibus:                        8.319   Durbin-Watson:                   1.730\n",
       "Prob(Omnibus):                  0.016   Jarque-Bera (JB):                6.111\n",
       "Skew:                           0.430   Prob(JB):                       0.0471\n",
       "Kurtosis:                       2.306   Cond. No.                         79.4\n",
       "==============================================================================\n",
       "\n",
       "Notes:\n",
       "[1] Standard Errors assume that the covariance matrix of the errors is correctly specified.\n",
       "\"\"\""
      ]
     },
     "execution_count": 76,
     "metadata": {},
     "output_type": "execute_result"
    }
   ],
   "source": [
    "model3.summary()"
   ]
  },
  {
   "cell_type": "code",
   "execution_count": 78,
   "id": "729d129e",
   "metadata": {},
   "outputs": [],
   "source": [
    "# Here we got the higher r-squared that the previous models. r-squares = 0.055"
   ]
  },
  {
   "cell_type": "code",
   "execution_count": null,
   "id": "b8814fb2",
   "metadata": {},
   "outputs": [],
   "source": []
  },
  {
   "cell_type": "code",
   "execution_count": null,
   "id": "8603d082",
   "metadata": {},
   "outputs": [],
   "source": [
    "# Perform Residual analyisi on the better model"
   ]
  },
  {
   "cell_type": "code",
   "execution_count": 81,
   "id": "f9e5c9d6",
   "metadata": {},
   "outputs": [],
   "source": [
    "cost_residuals1 = model3.resid"
   ]
  },
  {
   "cell_type": "code",
   "execution_count": 83,
   "id": "943da638",
   "metadata": {},
   "outputs": [
    {
     "data": {
      "image/png": "[encoded data removed]",
      "text/plain": [
       "<Figure size 640x480 with 1 Axes>"
      ]
     },
     "metadata": {},
     "output_type": "display_data"
    }
   ],
   "source": [
    "qqplot = sm.graphics.qqplot(cost_residuals1, dist = st.norm, line = '45', fit=True)\n",
    "plt.title('Normal q-q plot of Regression Standardized Residuals')\n",
    "plt.show()"
   ]
  },
  {
   "cell_type": "code",
   "execution_count": 82,
   "id": "82c07391",
   "metadata": {},
   "outputs": [
    {
     "data": {
      "text/plain": [
       "Text(0, 0.5, 'Standardized Residuals')"
      ]
     },
     "execution_count": 82,
     "metadata": {},
     "output_type": "execute_result"
    },
    {
     "data": {
      "image/png": "[encoded data removed]",
      "text/plain": [
       "<Figure size 640x480 with 1 Axes>"
      ]
     },
     "metadata": {},
     "output_type": "display_data"
    }
   ],
   "source": [
    "plt.scatter(standardize(model3.fittedvalues), standardize(cost_residuals1))\n",
    "plt.title('Residuals vs Predicted Values')\n",
    "plt.xlabel('Standardized Predicted Values')\n",
    "plt.ylabel('Standardized Residuals')"
   ]
  },
  {
   "cell_type": "markdown",
   "id": "13a4b21f",
   "metadata": {},
   "source": [
    "* if it is compared with the first model, the data is more normally distributed and the residuals are more dispersed"
   ]
  },
  {
   "cell_type": "code",
   "execution_count": null,
   "id": "d03ad299",
   "metadata": {},
   "outputs": [],
   "source": []
  },
  {
   "cell_type": "code",
   "execution_count": null,
   "id": "f65f4757",
   "metadata": {},
   "outputs": [],
   "source": []
  },
  {
   "cell_type": "code",
   "execution_count": null,
   "id": "79505529",
   "metadata": {},
   "outputs": [],
   "source": []
  },
  {
   "cell_type": "code",
   "execution_count": null,
   "id": "c88216b4",
   "metadata": {},
   "outputs": [],
   "source": []
  },
  {
   "cell_type": "code",
   "execution_count": null,
   "id": "d77e8bfc",
   "metadata": {},
   "outputs": [],
   "source": []
  }
 ],
 "metadata": {
  "kernelspec": {
   "display_name": "Python 3 (ipykernel)",
   "language": "python",
   "name": "python3"
  },
  "language_info": {
   "codemirror_mode": {
    "name": "ipython",
    "version": 3
   },
   "file_extension": ".py",
   "mimetype": "text/x-python",
   "name": "python",
   "nbconvert_exporter": "python",
   "pygments_lexer": "ipython3",
   "version": "3.9.13"
  }
 },
 "nbformat": 4,
 "nbformat_minor": 5
}
